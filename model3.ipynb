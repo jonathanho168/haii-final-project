{
 "cells": [
  {
   "cell_type": "markdown",
   "id": "31de4ae3",
   "metadata": {},
   "source": [
    "# Model 3: Predicting College Graduation"
   ]
  },
  {
   "cell_type": "code",
   "execution_count": 1,
   "id": "a69b2fc8",
   "metadata": {},
   "outputs": [],
   "source": [
    "# dictionary of graduation rate statistics\n",
    "# structed as \"race\": [male, female]\n",
    "\n",
    "grad_rates = {\n",
    "    'White': [61, 67],\n",
    "    'Black': [34, 44],\n",
    "    'Hispanic': [50, 58],\n",
    "    \"Asian\": [70, 77],\n",
    "    \"Pacific Islander\": [50, 53],\n",
    "    \"Asian\": [70, 77], \n",
    "    \"American Indian/Alaska Native\": [35, 42],\n",
    "    \"Mutiracial\": [56, 62]\n",
    "}"
   ]
  },
  {
   "cell_type": "code",
   "execution_count": 2,
   "id": "a4de7865",
   "metadata": {},
   "outputs": [
    {
     "ename": "NameError",
     "evalue": "name 'random' is not defined",
     "output_type": "error",
     "traceback": [
      "\u001b[0;31m---------------------------------------------------------------------------\u001b[0m",
      "\u001b[0;31mNameError\u001b[0m                                 Traceback (most recent call last)",
      "Input \u001b[0;32mIn [2]\u001b[0m, in \u001b[0;36m<cell line: 3>\u001b[0;34m()\u001b[0m\n\u001b[1;32m      1\u001b[0m race \u001b[38;5;241m=\u001b[39m \u001b[38;5;124m\"\u001b[39m\u001b[38;5;124mWhite\u001b[39m\u001b[38;5;124m\"\u001b[39m\n\u001b[1;32m      2\u001b[0m gender \u001b[38;5;241m=\u001b[39m \u001b[38;5;241m0\u001b[39m\n\u001b[0;32m----> 3\u001b[0m randomRate \u001b[38;5;241m=\u001b[39m \u001b[43mrandom\u001b[49m\u001b[38;5;241m.\u001b[39mrandint(\u001b[38;5;241m0\u001b[39m, \u001b[38;5;241m100\u001b[39m)\n\u001b[1;32m      5\u001b[0m \u001b[38;5;28mprint\u001b[39m(randomRate)\n\u001b[1;32m      6\u001b[0m \u001b[38;5;28mprint\u001b[39m(grad_rates[race][gender] \u001b[38;5;241m<\u001b[39m\u001b[38;5;241m=\u001b[39m randomRate)\n",
      "\u001b[0;31mNameError\u001b[0m: name 'random' is not defined"
     ]
    }
   ],
   "source": [
    "race = \"White\"\n",
    "gender = 0\n",
    "randomRate = random.randint(0, 100)\n",
    "\n",
    "print(randomRate)\n",
    "print(grad_rates[race][gender] <= randomRate)"
   ]
  },
  {
   "cell_type": "code",
   "execution_count": null,
   "id": "69c791a9",
   "metadata": {},
   "outputs": [],
   "source": []
  }
 ],
 "metadata": {
  "kernelspec": {
   "display_name": "Python 3 (ipykernel)",
   "language": "python",
   "name": "python3"
  },
  "language_info": {
   "codemirror_mode": {
    "name": "ipython",
    "version": 3
   },
   "file_extension": ".py",
   "mimetype": "text/x-python",
   "name": "python",
   "nbconvert_exporter": "python",
   "pygments_lexer": "ipython3",
   "version": "3.9.12"
  }
 },
 "nbformat": 4,
 "nbformat_minor": 5
}
