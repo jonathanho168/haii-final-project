{
  "cells": [
    {
      "cell_type": "code",
      "execution_count": null,
      "metadata": {},
      "outputs": [],
      "source": [
        "# predicting student enrollment in college from socio-economic and academic factors"
      ]
    },
    {
      "cell_type": "code",
      "execution_count": 3,
      "metadata": {
        "id": "fHmJYHonhZ7O"
      },
      "outputs": [],
      "source": [
        "import numpy as np\n",
        "import matplotlib.pyplot as plt\n",
        "import seaborn as sns\n",
        "import pandas as pd\n",
        "\n",
        "df = pd.read_csv(\"datasets/college-enrollment.csv\")"
      ]
    },
    {
      "cell_type": "code",
      "execution_count": 3,
      "metadata": {
        "colab": {
          "base_uri": "https://localhost:8080/"
        },
        "id": "nimIymWkhmEe",
        "outputId": "83d8d745-5ce6-4007-8086-bf62b55bf0b5"
      },
      "outputs": [
        {
          "name": "stdout",
          "output_type": "stream",
          "text": [
            "<class 'pandas.core.frame.DataFrame'>\n",
            "RangeIndex: 1000 entries, 0 to 999\n",
            "Data columns (total 11 columns):\n",
            " #   Column                 Non-Null Count  Dtype  \n",
            "---  ------                 --------------  -----  \n",
            " 0   type_school            1000 non-null   object \n",
            " 1   school_accreditation   1000 non-null   object \n",
            " 2   gender                 1000 non-null   object \n",
            " 3   interest               1000 non-null   object \n",
            " 4   residence              1000 non-null   object \n",
            " 5   parent_age             1000 non-null   int64  \n",
            " 6   parent_salary          1000 non-null   int64  \n",
            " 7   house_area             1000 non-null   float64\n",
            " 8   average_grades         1000 non-null   float64\n",
            " 9   parent_was_in_college  1000 non-null   bool   \n",
            " 10  will_go_to_college     1000 non-null   bool   \n",
            "dtypes: bool(2), float64(2), int64(2), object(5)\n",
            "memory usage: 72.4+ KB\n"
          ]
        }
      ],
      "source": [
        "df.info()"
      ]
    },
    {
      "cell_type": "code",
      "execution_count": 4,
      "metadata": {
        "colab": {
          "base_uri": "https://localhost:8080/"
        },
        "id": "t5VZBUw2hsMB",
        "outputId": "9c126969-36af-43a2-d7bf-07a339f137f2"
      },
      "outputs": [
        {
          "name": "stdout",
          "output_type": "stream",
          "text": [
            "Number of missing values:\n"
          ]
        },
        {
          "data": {
            "text/plain": [
              "type_school              0\n",
              "school_accreditation     0\n",
              "gender                   0\n",
              "interest                 0\n",
              "residence                0\n",
              "parent_age               0\n",
              "parent_salary            0\n",
              "house_area               0\n",
              "average_grades           0\n",
              "parent_was_in_college    0\n",
              "will_go_to_college       0\n",
              "dtype: int64"
            ]
          },
          "execution_count": 4,
          "metadata": {},
          "output_type": "execute_result"
        }
      ],
      "source": [
        "# check for any missing values\n",
        "df.isnull().sum()"
      ]
    },
    {
      "cell_type": "code",
      "execution_count": 12,
      "metadata": {
        "colab": {
          "base_uri": "https://localhost:8080/"
        },
        "id": "fQKwRGfUhzP0",
        "outputId": "e47bff2b-22ea-4a5a-ccc2-a1c234adf55e"
      },
      "outputs": [
        {
          "name": "stdout",
          "output_type": "stream",
          "text": [
            "Academic      609\n",
            "Vocational    391\n",
            "Name: type_school, dtype: int64\n",
            "===============================================\n",
            "\n",
            "B    519\n",
            "A    481\n",
            "Name: school_accreditation, dtype: int64\n",
            "===============================================\n",
            "\n",
            "Male      515\n",
            "Female    485\n",
            "Name: gender, dtype: int64\n",
            "===============================================\n",
            "\n",
            "Very Interested    324\n",
            "Uncertain          261\n",
            "Less Interested    229\n",
            "Interested         100\n",
            "Not Interested      86\n",
            "Name: interest, dtype: int64\n",
            "===============================================\n",
            "\n",
            "Urban    539\n",
            "Rural    461\n",
            "Name: residence, dtype: int64\n",
            "===============================================\n",
            "\n",
            "52    144\n",
            "53    126\n",
            "54    110\n",
            "51     94\n",
            "50     93\n",
            "55     82\n",
            "49     69\n",
            "56     53\n",
            "48     42\n",
            "47     34\n",
            "57     32\n",
            "58     26\n",
            "46     22\n",
            "59     17\n",
            "60     15\n",
            "45     13\n",
            "44      8\n",
            "43      6\n",
            "61      4\n",
            "41      2\n",
            "42      2\n",
            "40      2\n",
            "62      2\n",
            "64      1\n",
            "65      1\n",
            "Name: parent_age, dtype: int64\n",
            "===============================================\n",
            "\n",
            "5920000    7\n",
            "4740000    7\n",
            "5840000    6\n",
            "3540000    6\n",
            "5720000    6\n",
            "          ..\n",
            "6030000    1\n",
            "4000000    1\n",
            "3750000    1\n",
            "2960000    1\n",
            "3270000    1\n",
            "Name: parent_salary, Length: 461, dtype: int64\n",
            "===============================================\n",
            "\n",
            "67.0     9\n",
            "76.0     8\n",
            "79.7     7\n",
            "75.9     7\n",
            "86.3     7\n",
            "        ..\n",
            "58.5     1\n",
            "44.7     1\n",
            "67.6     1\n",
            "84.4     1\n",
            "105.8    1\n",
            "Name: house_area, Length: 472, dtype: int64\n",
            "===============================================\n",
            "\n",
            "85.13    5\n",
            "85.23    5\n",
            "83.55    5\n",
            "86.60    5\n",
            "87.50    5\n",
            "        ..\n",
            "86.39    1\n",
            "83.26    1\n",
            "85.87    1\n",
            "80.26    1\n",
            "86.13    1\n",
            "Name: average_grades, Length: 684, dtype: int64\n",
            "===============================================\n",
            "\n",
            "True     520\n",
            "False    480\n",
            "Name: parent_was_in_college, dtype: int64\n",
            "===============================================\n",
            "\n",
            "True     500\n",
            "False    500\n",
            "Name: will_go_to_college, dtype: int64\n",
            "===============================================\n",
            "\n"
          ]
        }
      ],
      "source": [
        "# value counts for each column\n",
        "\n",
        "for row in df:\n",
        "  print(f\"{df[row].value_counts()}\")\n",
        "  print(\"===============================================\\n\")"
      ]
    },
    {
      "cell_type": "code",
      "execution_count": 13,
      "metadata": {
        "colab": {
          "base_uri": "https://localhost:8080/",
          "height": 596
        },
        "id": "QxS1iGRqiexN",
        "outputId": "e97d9421-9d4f-4864-9cbc-eaf863e1161c"
      },
      "outputs": [
        {
          "data": {
            "image/png": "[encoded data removed]",
            "text/plain": [
              "<Figure size 1440x720 with 2 Axes>"
            ]
          },
          "metadata": {
            "needs_background": "light"
          },
          "output_type": "display_data"
        }
      ],
      "source": [
        "# Correlation Matrix \n",
        "plt.figure(figsize=(20,10))\n",
        "sns.heatmap(df.corr(), annot=True)\n",
        "plt.show()"
      ]
    },
    {
      "cell_type": "code",
      "execution_count": 29,
      "metadata": {
        "id": "wDwAcK-ciz5p"
      },
      "outputs": [],
      "source": [
        "# drop features we are not asking about in questionnaire\n",
        "del df['interest']\n",
        "del df['school_accreditation']"
      ]
    },
    {
      "cell_type": "code",
      "execution_count": 30,
      "metadata": {
        "colab": {
          "base_uri": "https://localhost:8080/",
          "height": 487
        },
        "id": "Yl0z3VEwiptX",
        "outputId": "17ec885d-c131-46ab-ed80-44fbbf635767"
      },
      "outputs": [
        {
          "data": {
            "text/html": [
              "\n",
              "  <div id=\"df-77126939-5707-453d-b48f-75f370cd1dfc\">\n",
              "    <div class=\"colab-df-container\">\n",
              "      <div>\n",
              "<style scoped>\n",
              "    .dataframe tbody tr th:only-of-type {\n",
              "        vertical-align: middle;\n",
              "    }\n",
              "\n",
              "    .dataframe tbody tr th {\n",
              "        vertical-align: top;\n",
              "    }\n",
              "\n",
              "    .dataframe thead th {\n",
              "        text-align: right;\n",
              "    }\n",
              "</style>\n",
              "<table border=\"1\" class=\"dataframe\">\n",
              "  <thead>\n",
              "    <tr style=\"text-align: right;\">\n",
              "      <th></th>\n",
              "      <th>type_school</th>\n",
              "      <th>school_accreditation</th>\n",
              "      <th>gender</th>\n",
              "      <th>residence</th>\n",
              "      <th>parent_age</th>\n",
              "      <th>parent_salary</th>\n",
              "      <th>house_area</th>\n",
              "      <th>average_grades</th>\n",
              "      <th>parent_was_in_college</th>\n",
              "      <th>will_go_to_college</th>\n",
              "    </tr>\n",
              "  </thead>\n",
              "  <tbody>\n",
              "    <tr>\n",
              "      <th>0</th>\n",
              "      <td>0</td>\n",
              "      <td>0</td>\n",
              "      <td>0</td>\n",
              "      <td>0</td>\n",
              "      <td>56</td>\n",
              "      <td>6950000</td>\n",
              "      <td>83.0</td>\n",
              "      <td>84.09</td>\n",
              "      <td>0</td>\n",
              "      <td>1</td>\n",
              "    </tr>\n",
              "    <tr>\n",
              "      <th>1</th>\n",
              "      <td>0</td>\n",
              "      <td>0</td>\n",
              "      <td>0</td>\n",
              "      <td>0</td>\n",
              "      <td>57</td>\n",
              "      <td>4410000</td>\n",
              "      <td>76.8</td>\n",
              "      <td>86.91</td>\n",
              "      <td>0</td>\n",
              "      <td>1</td>\n",
              "    </tr>\n",
              "    <tr>\n",
              "      <th>2</th>\n",
              "      <td>0</td>\n",
              "      <td>1</td>\n",
              "      <td>1</td>\n",
              "      <td>0</td>\n",
              "      <td>50</td>\n",
              "      <td>6500000</td>\n",
              "      <td>80.6</td>\n",
              "      <td>87.43</td>\n",
              "      <td>0</td>\n",
              "      <td>1</td>\n",
              "    </tr>\n",
              "    <tr>\n",
              "      <th>3</th>\n",
              "      <td>1</td>\n",
              "      <td>1</td>\n",
              "      <td>0</td>\n",
              "      <td>1</td>\n",
              "      <td>49</td>\n",
              "      <td>6600000</td>\n",
              "      <td>78.2</td>\n",
              "      <td>82.12</td>\n",
              "      <td>1</td>\n",
              "      <td>1</td>\n",
              "    </tr>\n",
              "    <tr>\n",
              "      <th>4</th>\n",
              "      <td>0</td>\n",
              "      <td>0</td>\n",
              "      <td>1</td>\n",
              "      <td>0</td>\n",
              "      <td>57</td>\n",
              "      <td>5250000</td>\n",
              "      <td>75.1</td>\n",
              "      <td>86.79</td>\n",
              "      <td>0</td>\n",
              "      <td>0</td>\n",
              "    </tr>\n",
              "    <tr>\n",
              "      <th>...</th>\n",
              "      <td>...</td>\n",
              "      <td>...</td>\n",
              "      <td>...</td>\n",
              "      <td>...</td>\n",
              "      <td>...</td>\n",
              "      <td>...</td>\n",
              "      <td>...</td>\n",
              "      <td>...</td>\n",
              "      <td>...</td>\n",
              "      <td>...</td>\n",
              "    </tr>\n",
              "    <tr>\n",
              "      <th>995</th>\n",
              "      <td>1</td>\n",
              "      <td>0</td>\n",
              "      <td>1</td>\n",
              "      <td>1</td>\n",
              "      <td>49</td>\n",
              "      <td>7420000</td>\n",
              "      <td>63.6</td>\n",
              "      <td>85.99</td>\n",
              "      <td>1</td>\n",
              "      <td>1</td>\n",
              "    </tr>\n",
              "    <tr>\n",
              "      <th>996</th>\n",
              "      <td>0</td>\n",
              "      <td>1</td>\n",
              "      <td>1</td>\n",
              "      <td>1</td>\n",
              "      <td>51</td>\n",
              "      <td>7480000</td>\n",
              "      <td>84.3</td>\n",
              "      <td>89.72</td>\n",
              "      <td>1</td>\n",
              "      <td>1</td>\n",
              "    </tr>\n",
              "    <tr>\n",
              "      <th>997</th>\n",
              "      <td>1</td>\n",
              "      <td>0</td>\n",
              "      <td>0</td>\n",
              "      <td>0</td>\n",
              "      <td>49</td>\n",
              "      <td>5550000</td>\n",
              "      <td>75.2</td>\n",
              "      <td>79.56</td>\n",
              "      <td>0</td>\n",
              "      <td>1</td>\n",
              "    </tr>\n",
              "    <tr>\n",
              "      <th>998</th>\n",
              "      <td>0</td>\n",
              "      <td>1</td>\n",
              "      <td>0</td>\n",
              "      <td>1</td>\n",
              "      <td>53</td>\n",
              "      <td>5840000</td>\n",
              "      <td>105.8</td>\n",
              "      <td>87.18</td>\n",
              "      <td>1</td>\n",
              "      <td>1</td>\n",
              "    </tr>\n",
              "    <tr>\n",
              "      <th>999</th>\n",
              "      <td>0</td>\n",
              "      <td>1</td>\n",
              "      <td>0</td>\n",
              "      <td>0</td>\n",
              "      <td>50</td>\n",
              "      <td>2940000</td>\n",
              "      <td>69.1</td>\n",
              "      <td>86.13</td>\n",
              "      <td>1</td>\n",
              "      <td>0</td>\n",
              "    </tr>\n",
              "  </tbody>\n",
              "</table>\n",
              "<p>1000 rows × 10 columns</p>\n",
              "</div>\n",
              "      <button class=\"colab-df-convert\" onclick=\"convertToInteractive('df-77126939-5707-453d-b48f-75f370cd1dfc')\"\n",
              "              title=\"Convert this dataframe to an interactive table.\"\n",
              "              style=\"display:none;\">\n",
              "        \n",
              "  <svg xmlns=\"http://www.w3.org/2000/svg\" height=\"24px\"viewBox=\"0 0 24 24\"\n",
              "       width=\"24px\">\n",
              "    <path d=\"M0 0h24v24H0V0z\" fill=\"none\"/>\n",
              "    <path d=\"M18.56 5.44l.94 2.06.94-2.06 2.06-.94-2.06-.94-.94-2.06-.94 2.06-2.06.94zm-11 1L8.5 8.5l.94-2.06 2.06-.94-2.06-.94L8.5 2.5l-.94 2.06-2.06.94zm10 10l.94 2.06.94-2.06 2.06-.94-2.06-.94-.94-2.06-.94 2.06-2.06.94z\"/><path d=\"M17.41 7.96l-1.37-1.37c-.4-.4-.92-.59-1.43-.59-.52 0-1.04.2-1.43.59L10.3 9.45l-7.72 7.72c-.78.78-.78 2.05 0 2.83L4 21.41c.39.39.9.59 1.41.59.51 0 1.02-.2 1.41-.59l7.78-7.78 2.81-2.81c.8-.78.8-2.07 0-2.86zM5.41 20L4 18.59l7.72-7.72 1.47 1.35L5.41 20z\"/>\n",
              "  </svg>\n",
              "      </button>\n",
              "      \n",
              "  <style>\n",
              "    .colab-df-container {\n",
              "      display:flex;\n",
              "      flex-wrap:wrap;\n",
              "      gap: 12px;\n",
              "    }\n",
              "\n",
              "    .colab-df-convert {\n",
              "      background-color: #E8F0FE;\n",
              "      border: none;\n",
              "      border-radius: 50%;\n",
              "      cursor: pointer;\n",
              "      display: none;\n",
              "      fill: #1967D2;\n",
              "      height: 32px;\n",
              "      padding: 0 0 0 0;\n",
              "      width: 32px;\n",
              "    }\n",
              "\n",
              "    .colab-df-convert:hover {\n",
              "      background-color: #E2EBFA;\n",
              "      box-shadow: 0px 1px 2px rgba(60, 64, 67, 0.3), 0px 1px 3px 1px rgba(60, 64, 67, 0.15);\n",
              "      fill: #174EA6;\n",
              "    }\n",
              "\n",
              "    [theme=dark] .colab-df-convert {\n",
              "      background-color: #3B4455;\n",
              "      fill: #D2E3FC;\n",
              "    }\n",
              "\n",
              "    [theme=dark] .colab-df-convert:hover {\n",
              "      background-color: #434B5C;\n",
              "      box-shadow: 0px 1px 3px 1px rgba(0, 0, 0, 0.15);\n",
              "      filter: drop-shadow(0px 1px 2px rgba(0, 0, 0, 0.3));\n",
              "      fill: #FFFFFF;\n",
              "    }\n",
              "  </style>\n",
              "\n",
              "      <script>\n",
              "        const buttonEl =\n",
              "          document.querySelector('#df-77126939-5707-453d-b48f-75f370cd1dfc button.colab-df-convert');\n",
              "        buttonEl.style.display =\n",
              "          google.colab.kernel.accessAllowed ? 'block' : 'none';\n",
              "\n",
              "        async function convertToInteractive(key) {\n",
              "          const element = document.querySelector('#df-77126939-5707-453d-b48f-75f370cd1dfc');\n",
              "          const dataTable =\n",
              "            await google.colab.kernel.invokeFunction('convertToInteractive',\n",
              "                                                     [key], {});\n",
              "          if (!dataTable) return;\n",
              "\n",
              "          const docLinkHtml = 'Like what you see? Visit the ' +\n",
              "            '<a target=\"_blank\" href=https://colab.research.google.com/notebooks/data_table.ipynb>data table notebook</a>'\n",
              "            + ' to learn more about interactive tables.';\n",
              "          element.innerHTML = '';\n",
              "          dataTable['output_type'] = 'display_data';\n",
              "          await google.colab.output.renderOutput(dataTable, element);\n",
              "          const docLink = document.createElement('div');\n",
              "          docLink.innerHTML = docLinkHtml;\n",
              "          element.appendChild(docLink);\n",
              "        }\n",
              "      </script>\n",
              "    </div>\n",
              "  </div>\n",
              "  "
            ],
            "text/plain": [
              "     type_school  school_accreditation  gender  residence  parent_age  \\\n",
              "0              0                     0       0          0          56   \n",
              "1              0                     0       0          0          57   \n",
              "2              0                     1       1          0          50   \n",
              "3              1                     1       0          1          49   \n",
              "4              0                     0       1          0          57   \n",
              "..           ...                   ...     ...        ...         ...   \n",
              "995            1                     0       1          1          49   \n",
              "996            0                     1       1          1          51   \n",
              "997            1                     0       0          0          49   \n",
              "998            0                     1       0          1          53   \n",
              "999            0                     1       0          0          50   \n",
              "\n",
              "     parent_salary  house_area  average_grades  parent_was_in_college  \\\n",
              "0          6950000        83.0           84.09                      0   \n",
              "1          4410000        76.8           86.91                      0   \n",
              "2          6500000        80.6           87.43                      0   \n",
              "3          6600000        78.2           82.12                      1   \n",
              "4          5250000        75.1           86.79                      0   \n",
              "..             ...         ...             ...                    ...   \n",
              "995        7420000        63.6           85.99                      1   \n",
              "996        7480000        84.3           89.72                      1   \n",
              "997        5550000        75.2           79.56                      0   \n",
              "998        5840000       105.8           87.18                      1   \n",
              "999        2940000        69.1           86.13                      1   \n",
              "\n",
              "     will_go_to_college  \n",
              "0                     1  \n",
              "1                     1  \n",
              "2                     1  \n",
              "3                     1  \n",
              "4                     0  \n",
              "..                  ...  \n",
              "995                   1  \n",
              "996                   1  \n",
              "997                   1  \n",
              "998                   1  \n",
              "999                   0  \n",
              "\n",
              "[1000 rows x 10 columns]"
            ]
          },
          "execution_count": 30,
          "metadata": {},
          "output_type": "execute_result"
        }
      ],
      "source": [
        "# Convert categorical column to numeric ones\n",
        "\n",
        "df['type_school']=df['type_school'].map({'Academic': 0,'Vocational': 1})\n",
        "df['gender']=df['gender'].map({'Male': 0,'Female': 1})\n",
        "df['residence']=df['residence'].map({'Urban':0,'Rural': 1})\n",
        "df[\"parent_was_in_college\"] = df[\"parent_was_in_college\"].astype(int)\n",
        "df[\"will_go_to_college\"] = df[\"will_go_to_college\"].astype(int)\n",
        "df"
      ]
    },
    {
      "cell_type": "code",
      "execution_count": 18,
      "metadata": {
        "colab": {
          "base_uri": "https://localhost:8080/"
        },
        "id": "0weL6aesjEYD",
        "outputId": "f2950ef8-f521-4f9c-b9d2-7e87565a05db"
      },
      "outputs": [
        {
          "data": {
            "text/plain": [
              "type_school              0\n",
              "school_accreditation     0\n",
              "gender                   0\n",
              "residence                0\n",
              "parent_age               0\n",
              "parent_salary            0\n",
              "house_area               0\n",
              "average_grades           0\n",
              "parent_was_in_college    0\n",
              "will_go_to_college       0\n",
              "dtype: int64"
            ]
          },
          "execution_count": 18,
          "metadata": {},
          "output_type": "execute_result"
        }
      ],
      "source": [
        "df.isna().sum()"
      ]
    },
    {
      "cell_type": "code",
      "execution_count": 31,
      "metadata": {
        "id": "c4fDCLo5jGN-"
      },
      "outputs": [],
      "source": [
        "X = df.drop(['will_go_to_college'], axis=1)\n",
        "y = df['will_go_to_college']"
      ]
    },
    {
      "cell_type": "code",
      "execution_count": 32,
      "metadata": {
        "id": "oEpOGRTZj5p6"
      },
      "outputs": [],
      "source": [
        "# Scaling the data \n",
        "scaler =StandardScaler()\n",
        "Xs = scaler.fit_transform(X)"
      ]
    },
    {
      "cell_type": "code",
      "execution_count": 22,
      "metadata": {
        "id": "Im3jmn2bjPiv"
      },
      "outputs": [],
      "source": [
        "# Classifiers\n",
        "from sklearn.linear_model import LogisticRegression\n",
        "from sklearn.svm import SVC\n",
        "from sklearn.neighbors import KNeighborsClassifier\n",
        "from sklearn.ensemble import RandomForestClassifier\n",
        "# Evaluation Mertics \n",
        "from sklearn.metrics import accuracy_score, confusion_matrix, classification_report, plot_confusion_matrix, ConfusionMatrixDisplay\n",
        "from sklearn.metrics import roc_curve, auc\n",
        "# Other \n",
        "from sklearn.model_selection import cross_val_score, KFold\n",
        "from sklearn.pipeline import make_pipeline\n",
        "from sklearn.preprocessing import StandardScaler\n",
        "from sklearn.model_selection import train_test_split\n",
        "from sklearn import metrics, preprocessing"
      ]
    },
    {
      "cell_type": "code",
      "execution_count": 78,
      "metadata": {
        "id": "mwfgd2h80cW2"
      },
      "outputs": [],
      "source": [
        "from sklearn.metrics import confusion_matrix\n",
        "from sklearn.metrics import classification_report\n",
        "from sklearn.feature_selection import SelectKBest, f_regression\n",
        "\n",
        "# helper method to print basic model metrics\n",
        "def metrics(y_true, y_pred, accuracy_score):\n",
        "    print('\\nThe Logistic Regression accuracy score is {:03.2f}\\n'.format(accuracy_score))\n",
        "    print(\"Classification Report:\\n\", classification_report(y_true, y_pred))\n",
        "    print(\"The Confusion Matrix:\\n\",confusion_matrix(y_test, y_pred))\n",
        "    cm = confusion_matrix(y_true, y_pred, labels=log.classes_)\n",
        "    disp = ConfusionMatrixDisplay(confusion_matrix=cm, display_labels=log.classes_)\n",
        "    disp.plot()\n",
        "    plt.show()\n",
        "\n",
        "def avg_score_uncertainty(scores):\n",
        "  print(scores)\n",
        "  avg = (100*np.mean(scores), 100*np.std(scores)/np.sqrt(scores.shape[0]))\n",
        "  print(\"Average score and uncertainty: (%.2f +- %.3f)%%\"%avg)"
      ]
    },
    {
      "cell_type": "code",
      "execution_count": 33,
      "metadata": {
        "colab": {
          "base_uri": "https://localhost:8080/"
        },
        "id": "v_ZdKlv2jWOP",
        "outputId": "f913219d-e26e-4ead-9b0e-553d3dc32a9d"
      },
      "outputs": [
        {
          "data": {
            "text/plain": [
              "((800, 9), (800,), (200, 9), (200,))"
            ]
          },
          "execution_count": 33,
          "metadata": {},
          "output_type": "execute_result"
        }
      ],
      "source": [
        "X_train, X_test, y_train, y_test = train_test_split(Xs, y, test_size=0.20, random_state=42)\n",
        "X_train.shape, y_train.shape, X_test.shape, y_test.shape"
      ]
    },
    {
      "cell_type": "markdown",
      "metadata": {
        "id": "u-QnPnTMkHTx"
      },
      "source": [
        "## Logistic Regression"
      ]
    },
    {
      "cell_type": "code",
      "execution_count": 57,
      "metadata": {
        "colab": {
          "base_uri": "https://localhost:8080/"
        },
        "id": "szgZY4AFjhPY",
        "outputId": "555b576d-84cf-4283-ef40-e5989d56ddde"
      },
      "outputs": [
        {
          "data": {
            "text/plain": [
              "LogisticRegression()"
            ]
          },
          "execution_count": 57,
          "metadata": {},
          "output_type": "execute_result"
        }
      ],
      "source": [
        "# Logistic Regression\n",
        "log = LogisticRegression()\n",
        "log.fit(X_train, y_train)\n",
        "y_pred = log.predict(X_test)"
      ]
    },
    {
      "cell_type": "code",
      "execution_count": 76,
      "metadata": {
        "colab": {
          "base_uri": "https://localhost:8080/"
        },
        "id": "k3RCLurNjy7g",
        "outputId": "ce8a00b8-8139-4df1-82d2-b9be2d9ea07b"
      },
      "outputs": [
        {
          "name": "stdout",
          "output_type": "stream",
          "text": [
            "\n",
            "The 3-fold cross-validation accuracy score for this classifier is 0.85298\n",
            "\n"
          ]
        }
      ],
      "source": [
        "# Get average of 3-fold cross-validation score using an LR estimator.\n",
        "n_folds = 3\n",
        "cv_error = np.average(cross_val_score(LogisticRegression(), Xs, y, cv=n_folds))\n",
        "print('\\nThe {}-fold cross-validation accuracy score for this classifier is {:.5f}\\n'.format(n_folds, cv_error))"
      ]
    },
    {
      "cell_type": "code",
      "execution_count": 79,
      "metadata": {
        "colab": {
          "base_uri": "https://localhost:8080/"
        },
        "id": "9bI6MaBGjzH0",
        "outputId": "5ca1accb-634c-48e2-a203-eb0ef04d44c1"
      },
      "outputs": [
        {
          "name": "stdout",
          "output_type": "stream",
          "text": [
            "[0.78742515 0.83183183 0.81681682]\n",
            "Average score and uncertainty: (81.20 +- 1.065)%\n"
          ]
        }
      ],
      "source": [
        "clf2 = make_pipeline(SelectKBest(f_regression, k=4),LogisticRegression())\n",
        "scores = cross_val_score(clf2, Xs, y, cv=3)\n",
        "\n",
        "avg_score_uncertainty(scores)"
      ]
    },
    {
      "cell_type": "code",
      "execution_count": 80,
      "metadata": {
        "colab": {
          "base_uri": "https://localhost:8080/",
          "height": 569
        },
        "id": "VgUJZ_i2kTpr",
        "outputId": "58e0371b-60eb-4178-8ea4-60be3672267a"
      },
      "outputs": [
        {
          "name": "stdout",
          "output_type": "stream",
          "text": [
            "\n",
            "The Logistic Regression accuracy score is 0.89\n",
            "\n",
            "Classification Report:\n",
            "               precision    recall  f1-score   support\n",
            "\n",
            "           0       0.92      0.92      0.92       106\n",
            "           1       0.90      0.90      0.90        94\n",
            "\n",
            "    accuracy                           0.91       200\n",
            "   macro avg       0.91      0.91      0.91       200\n",
            "weighted avg       0.91      0.91      0.91       200\n",
            "\n",
            "The Confusion Matrix:\n",
            " [[97  9]\n",
            " [ 9 85]]\n"
          ]
        },
        {
          "data": {
            "image/png": "[encoded data removed]",
            "text/plain": [
              "<Figure size 432x288 with 2 Axes>"
            ]
          },
          "metadata": {
            "needs_background": "light"
          },
          "output_type": "display_data"
        }
      ],
      "source": [
        "log_score = log.score(X_test, y_test)\n",
        "\n",
        "metrics(y_test, y_pred, log_score)"
      ]
    },
    {
      "cell_type": "markdown",
      "metadata": {
        "id": "VZPGPX0xkKMD"
      },
      "source": [
        "# K neighbors"
      ]
    },
    {
      "cell_type": "code",
      "execution_count": 38,
      "metadata": {
        "colab": {
          "base_uri": "https://localhost:8080/"
        },
        "id": "3rAyxmAPkXty",
        "outputId": "4301e539-7d8f-484b-ceb5-b7da28feaf3f"
      },
      "outputs": [
        {
          "name": "stdout",
          "output_type": "stream",
          "text": [
            "\n",
            "The K-Neighbors accuracy score is 0.85\n",
            "\n"
          ]
        }
      ],
      "source": [
        "kn = KNeighborsClassifier()\n",
        "kn.fit(X_train, y_train)\n",
        "y_pred = kn.predict(X_test)"
      ]
    },
    {
      "cell_type": "code",
      "execution_count": 39,
      "metadata": {
        "colab": {
          "base_uri": "https://localhost:8080/"
        },
        "id": "TFyykQWckdAu",
        "outputId": "c5935ee9-7586-4adf-fbcc-4a4a26212807"
      },
      "outputs": [
        {
          "name": "stdout",
          "output_type": "stream",
          "text": [
            "\n",
            "The 3-fold cross-validation accuracy score for this classifier is 0.84798\n",
            "\n"
          ]
        }
      ],
      "source": [
        "# Get average of 3-fold cross-validation score using an KN estimator.\n",
        "n_folds = 3\n",
        "cv_error = np.average(cross_val_score(KNeighborsClassifier(), Xs, y, cv=n_folds))\n",
        "print('\\nThe {}-fold cross-validation accuracy score for this classifier is {:.5f}\\n'.format(n_folds, cv_error))"
      ]
    },
    {
      "cell_type": "code",
      "execution_count": 81,
      "metadata": {
        "colab": {
          "base_uri": "https://localhost:8080/"
        },
        "id": "TOkr0AZZkfxP",
        "outputId": "05bfdbd0-1c4f-4977-bde9-c7fac807cd8b"
      },
      "outputs": [
        {
          "name": "stdout",
          "output_type": "stream",
          "text": [
            "[0.79341317 0.81981982 0.81081081]\n",
            "Average score and uncertainty: (80.80 +- 0.633)%\n"
          ]
        }
      ],
      "source": [
        "clf2 = make_pipeline(SelectKBest(f_regression, k=4),KNeighborsClassifier())\n",
        "scores = cross_val_score(clf2, Xs, y, cv=3)\n",
        "\n",
        "avg_score_uncertainty(scores)"
      ]
    },
    {
      "cell_type": "code",
      "execution_count": 64,
      "metadata": {
        "colab": {
          "base_uri": "https://localhost:8080/",
          "height": 569
        },
        "id": "i3Oc0_PqkjTv",
        "outputId": "df133030-70be-43ea-e1b9-a1f5df8dd975"
      },
      "outputs": [
        {
          "name": "stdout",
          "output_type": "stream",
          "text": [
            "\n",
            "The Logistic Regression accuracy score is 0.85\n",
            "\n",
            "Classification Report:\n",
            "               precision    recall  f1-score   support\n",
            "\n",
            "           0       0.91      0.88      0.89       106\n",
            "           1       0.87      0.90      0.89        94\n",
            "\n",
            "    accuracy                           0.89       200\n",
            "   macro avg       0.89      0.89      0.89       200\n",
            "weighted avg       0.89      0.89      0.89       200\n",
            "\n",
            "The Confusion Matrix:\n",
            " [[93 13]\n",
            " [ 9 85]]\n"
          ]
        },
        {
          "data": {
            "image/png": "[encoded data removed]",
            "text/plain": [
              "<Figure size 432x288 with 2 Axes>"
            ]
          },
          "metadata": {
            "needs_background": "light"
          },
          "output_type": "display_data"
        }
      ],
      "source": [
        "kn_score = kn.score(X_test, y_test)\n",
        "\n",
        "metrics(y_test, y_pred, kn_score)"
      ]
    },
    {
      "cell_type": "markdown",
      "metadata": {
        "id": "3-2qnazxknTz"
      },
      "source": [
        "# SVM"
      ]
    },
    {
      "cell_type": "code",
      "execution_count": 65,
      "metadata": {
        "id": "GXiUBr24kmoa"
      },
      "outputs": [],
      "source": [
        "svm = SVC(probability=True)\n",
        "svm.fit(X_train, y_train)\n",
        "y_pred = svm.predict(X_test)"
      ]
    },
    {
      "cell_type": "code",
      "execution_count": 43,
      "metadata": {
        "colab": {
          "base_uri": "https://localhost:8080/"
        },
        "id": "5XJHVjKbksmV",
        "outputId": "92c0c2cb-8c72-4cd6-87a1-dd906e28d458"
      },
      "outputs": [
        {
          "name": "stdout",
          "output_type": "stream",
          "text": [
            "\n",
            "The 3-fold cross-validation accuracy score for this classifier is 0.88898\n",
            "\n"
          ]
        }
      ],
      "source": [
        "# Get average of 3-fold cross-validation score using an SVC estimator.\n",
        "n_folds = 3\n",
        "cv_error = np.average(cross_val_score(SVC(), Xs, y, cv=n_folds))\n",
        "print('\\nThe {}-fold cross-validation accuracy score for this classifier is {:.5f}\\n'.format(n_folds, cv_error))"
      ]
    },
    {
      "cell_type": "code",
      "execution_count": 82,
      "metadata": {
        "colab": {
          "base_uri": "https://localhost:8080/"
        },
        "id": "5QYVYsTfkuDR",
        "outputId": "b6a78e73-0ea5-4b8a-a78f-ded30a9ea603"
      },
      "outputs": [
        {
          "name": "stdout",
          "output_type": "stream",
          "text": [
            "[0.82634731 0.85285285 0.83483483]\n",
            "Average score and uncertainty: (83.80 +- 0.638)%\n"
          ]
        }
      ],
      "source": [
        "clf2 = make_pipeline(SelectKBest(f_regression, k=4),SVC(probability=True))\n",
        "scores = cross_val_score(clf2, Xs, y, cv=3)\n",
        "\n",
        "avg_score_uncertainty(scores)"
      ]
    },
    {
      "cell_type": "code",
      "execution_count": 66,
      "metadata": {
        "colab": {
          "base_uri": "https://localhost:8080/",
          "height": 569
        },
        "id": "GIN5HJhMkz-B",
        "outputId": "7ef74d2a-0cd9-46ab-bbcd-ae280c8fbf1f"
      },
      "outputs": [
        {
          "name": "stdout",
          "output_type": "stream",
          "text": [
            "\n",
            "The Logistic Regression accuracy score is 0.91\n",
            "\n",
            "Classification Report:\n",
            "               precision    recall  f1-score   support\n",
            "\n",
            "           0       0.92      0.90      0.91       106\n",
            "           1       0.89      0.91      0.90        94\n",
            "\n",
            "    accuracy                           0.91       200\n",
            "   macro avg       0.90      0.91      0.90       200\n",
            "weighted avg       0.91      0.91      0.91       200\n",
            "\n",
            "The Confusion Matrix:\n",
            " [[95 11]\n",
            " [ 8 86]]\n"
          ]
        },
        {
          "data": {
            "image/png": "[encoded data removed]",
            "text/plain": [
              "<Figure size 432x288 with 2 Axes>"
            ]
          },
          "metadata": {
            "needs_background": "light"
          },
          "output_type": "display_data"
        }
      ],
      "source": [
        "svm_score = svm.score(X_test, y_test)\n",
        "\n",
        "metrics(y_test, y_pred, svm_score)"
      ]
    },
    {
      "cell_type": "markdown",
      "metadata": {
        "id": "r3-S-8Bsk78N"
      },
      "source": [
        "# Random Forest Classifier"
      ]
    },
    {
      "cell_type": "code",
      "execution_count": 68,
      "metadata": {
        "id": "GxNd9_Rfk5cH"
      },
      "outputs": [],
      "source": [
        "# Random Forest Classifier\n",
        "\n",
        "rfc = RandomForestClassifier()\n",
        "rfc.fit(X_train, y_train)\n",
        "y_pred = rfc.predict(X_test)"
      ]
    },
    {
      "cell_type": "code",
      "execution_count": 53,
      "metadata": {
        "colab": {
          "base_uri": "https://localhost:8080/"
        },
        "id": "d73AGAAnlCU-",
        "outputId": "daa3b01b-172b-4f8a-d4b2-ab4401988485"
      },
      "outputs": [
        {
          "name": "stdout",
          "output_type": "stream",
          "text": [
            "\n",
            "The 3-fold cross-validation accuracy score for this classifier is 0.88399\n",
            "\n"
          ]
        }
      ],
      "source": [
        "# Get average of 3-fold cross-validation score using an RF estimator.\n",
        "n_folds = 3\n",
        "cv_error = np.average(cross_val_score(RandomForestClassifier(), Xs, y, cv=n_folds))\n",
        "print('\\nThe {}-fold cross-validation accuracy score for this classifier is {:.5f}\\n'.format(n_folds, cv_error))"
      ]
    },
    {
      "cell_type": "code",
      "execution_count": 83,
      "metadata": {
        "colab": {
          "base_uri": "https://localhost:8080/"
        },
        "id": "VmfPsMqvlEfl",
        "outputId": "e987ce47-e2e2-44ee-a3f7-8a4633f93e22"
      },
      "outputs": [
        {
          "name": "stdout",
          "output_type": "stream",
          "text": [
            "[0.82634731 0.85885886 0.82582583]\n",
            "Average score and uncertainty: (83.70 +- 0.892)%\n"
          ]
        }
      ],
      "source": [
        "clf2 = make_pipeline(SelectKBest(f_regression, k=4),RandomForestClassifier())\n",
        "\n",
        "scores = cross_val_score(clf2, Xs, y, cv=3)\n",
        "\n",
        "avg_score_uncertainty(scores)"
      ]
    },
    {
      "cell_type": "code",
      "execution_count": 69,
      "metadata": {
        "colab": {
          "base_uri": "https://localhost:8080/",
          "height": 569
        },
        "id": "m_vLoYyPlGdS",
        "outputId": "11961d60-6780-4b29-bb24-a6075aaf50d2"
      },
      "outputs": [
        {
          "name": "stdout",
          "output_type": "stream",
          "text": [
            "\n",
            "The Logistic Regression accuracy score is 0.91\n",
            "\n",
            "Classification Report:\n",
            "               precision    recall  f1-score   support\n",
            "\n",
            "           0       0.92      0.92      0.92       106\n",
            "           1       0.90      0.90      0.90        94\n",
            "\n",
            "    accuracy                           0.91       200\n",
            "   macro avg       0.91      0.91      0.91       200\n",
            "weighted avg       0.91      0.91      0.91       200\n",
            "\n",
            "The Confusion Matrix:\n",
            " [[97  9]\n",
            " [ 9 85]]\n"
          ]
        },
        {
          "data": {
            "image/png": "[encoded data removed]",
            "text/plain": [
              "<Figure size 432x288 with 2 Axes>"
            ]
          },
          "metadata": {
            "needs_background": "light"
          },
          "output_type": "display_data"
        }
      ],
      "source": [
        "rfc_score = rfc.score(X_test, y_test)\n",
        "metrics(y_test, y_pred, rfc_score)"
      ]
    },
    {
      "cell_type": "code",
      "execution_count": null,
      "metadata": {
        "id": "i7lZRtyqlTSk"
      },
      "outputs": [],
      "source": []
    },
    {
      "cell_type": "markdown",
      "metadata": {
        "id": "MuBxuBIWlTr2"
      },
      "source": [
        "SVM model had highest accuracy and f1 score"
      ]
    }
  ],
  "metadata": {
    "colab": {
      "provenance": []
    },
    "kernelspec": {
      "display_name": "Python 3.8.10 ('base')",
      "language": "python",
      "name": "python3"
    },
    "language_info": {
      "codemirror_mode": {
        "name": "ipython",
        "version": 3
      },
      "file_extension": ".py",
      "mimetype": "text/x-python",
      "name": "python",
      "nbconvert_exporter": "python",
      "pygments_lexer": "ipython3",
      "version": "3.8.10"
    },
    "vscode": {
      "interpreter": {
        "hash": "d5484aabbf1907b7f2408200de69570821a7eef8f915bb9cb115701269babc83"
      }
    }
  },
  "nbformat": 4,
  "nbformat_minor": 0
}
